{
  "nbformat": 4,
  "nbformat_minor": 0,
  "metadata": {
    "colab": {
      "name": "25th_July_Assignment.ipynb",
      "provenance": [],
      "collapsed_sections": [],
      "include_colab_link": true
    },
    "kernelspec": {
      "name": "python3",
      "display_name": "Python 3"
    },
    "language_info": {
      "name": "python"
    }
  },
  "cells": [
    {
      "cell_type": "markdown",
      "metadata": {
        "id": "view-in-github",
        "colab_type": "text"
      },
      "source": [
        "<a href=\"https://colab.research.google.com/github/chittoorking/repository-/blob/master/25th_July_Assignment.ipynb\" target=\"_parent\"><img src=\"https://colab.research.google.com/assets/colab-badge.svg\" alt=\"Open In Colab\"/></a>"
      ]
    },
    {
      "cell_type": "markdown",
      "metadata": {
        "id": "2c3GG-jaJJkJ"
      },
      "source": [
        "Write a Python function to check whether a string is a pangram or not.\n",
        "\n",
        "Note : Pangrams are words or sentences containing every letter of the alphabet at least once.\n",
        "For example : \"The quick brown fox jumps over the lazy dog\""
      ]
    },
    {
      "cell_type": "code",
      "metadata": {
        "id": "jRLNXYUyLpsz"
      },
      "source": [
        "# Your Code Here"
      ],
      "execution_count": null,
      "outputs": []
    },
    {
      "cell_type": "code",
      "metadata": {
        "id": "FKxbMxckkavg",
        "outputId": "75dbfbdf-fb60-4ad2-a9c2-307031100aa0",
        "colab": {
          "base_uri": "https://localhost:8080/"
        }
      },
      "source": [
        " \n",
        "import string, sys\n",
        "def ispangram(str, alphabet=string.ascii_lowercase):\n",
        "    alphaset = set(alphabet)\n",
        "    return alphaset <= set(str.lower())\n",
        " \n",
        "print ( ispangram('The quick brown fox jumps over the lazy dog'))"
      ],
      "execution_count": 2,
      "outputs": [
        {
          "output_type": "stream",
          "text": [
            "True\n"
          ],
          "name": "stdout"
        }
      ]
    },
    {
      "cell_type": "markdown",
      "metadata": {
        "id": "qrr0vwV1JTNH"
      },
      "source": [
        "**Double Click For Solution\n",
        "<!--\n",
        "Solution 1:\n",
        "import string\n",
        "def ispangram(str1, alphabet=string.ascii_lowercase):\n",
        "    alphaset = set(alphabet)\n",
        "    str1=set(str1.lower())\n",
        "    str1.discard(' ')\n",
        "    if alphaset == str1:\n",
        "      return \"Yes, it is pangram\"\n",
        "    else:\n",
        "      return \"No, it is not pangram\"\n",
        " \n",
        "print ( ispangram('The quick brown fox jumps over the lazy dog')) \n",
        "\n",
        "Solution 2:\n",
        "def ispangram(string):\n",
        "  alp=set(map(chr,range(97,123)))\n",
        "  s=set(string.lower())\n",
        "  s.discard(\" \")\n",
        "  return len(s)==len(alp)\n",
        "if ispangram('The quick brown fox jumps over the lazy dog'):\n",
        "  print(\"Yes, it it pangram\")\n",
        "else:\n",
        "  print(\"No, it is not pangram\")\n",
        "\n",
        "-->"
      ]
    }
  ]
}